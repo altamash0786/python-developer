{
  "nbformat": 4,
  "nbformat_minor": 0,
  "metadata": {
    "colab": {
      "provenance": [],
      "authorship_tag": "ABX9TyNxITCj6Xd7NyRjWIGQj6Mi",
      "include_colab_link": true
    },
    "kernelspec": {
      "name": "python3",
      "display_name": "Python 3"
    },
    "language_info": {
      "name": "python"
    }
  },
  "cells": [
    {
      "cell_type": "markdown",
      "metadata": {
        "id": "view-in-github",
        "colab_type": "text"
      },
      "source": [
        "<a href=\"https://colab.research.google.com/github/altamash0786/python-developer/blob/main/inheritance.ipynb\" target=\"_parent\"><img src=\"https://colab.research.google.com/assets/colab-badge.svg\" alt=\"Open In Colab\"/></a>"
      ]
    },
    {
      "cell_type": "code",
      "execution_count": 1,
      "metadata": {
        "colab": {
          "base_uri": "https://localhost:8080/"
        },
        "id": "KYg-A2yubNfn",
        "outputId": "f5790071-de0e-49c1-b1fd-5cb6a5440824"
      },
      "outputs": [
        {
          "output_type": "stream",
          "name": "stdout",
          "text": [
            "Animal speaks\n",
            "Dog Barks\n"
          ]
        }
      ],
      "source": [
        "# Single inheritance\n",
        "class Animal:\n",
        "  def speak(self):\n",
        "    return \"Animal speaks\"\n",
        "\n",
        "class Dog(Animal):\n",
        "  def bark(self):\n",
        "    return \"Dog Barks\"\n",
        "\n",
        "dog = Dog()\n",
        "print(dog.speak())\n",
        "print(dog.bark())"
      ]
    },
    {
      "cell_type": "code",
      "source": [
        "# Multilevel inheritance\n",
        "\n",
        "class Animal:\n",
        "  def speak(self):\n",
        "    return \"Animal speak\"\n",
        "\n",
        "class Dog(Animal):\n",
        "  def bark(self):\n",
        "    return \"Dog barks\"\n",
        "\n",
        "class Puppy(Dog):\n",
        "  def cry(self):\n",
        "    return \"Puppy cries\"\n",
        "\n",
        "puppy = Puppy()\n",
        "print(puppy.speak())\n",
        "print(puppy.bark())\n",
        "print(puppy.cry())"
      ],
      "metadata": {
        "colab": {
          "base_uri": "https://localhost:8080/"
        },
        "id": "E2sJVmWncF6E",
        "outputId": "37fa8d3f-aef7-4cfc-e4f5-3dab1a2b7edf"
      },
      "execution_count": 2,
      "outputs": [
        {
          "output_type": "stream",
          "name": "stdout",
          "text": [
            "Animal speak\n",
            "Dog barks\n",
            "Puppy cries\n"
          ]
        }
      ]
    },
    {
      "cell_type": "code",
      "source": [
        "# Multiple inheritance\n",
        "\n",
        "class Father:\n",
        "  def ability1(self):\n",
        "    return \"Father's ability\"\n",
        "\n",
        "class Mother:\n",
        "  def ability2(self):\n",
        "    return \"Mother's ability\"\n",
        "\n",
        "class Child(Father, Mother):\n",
        "  def ability3(self):\n",
        "    return \"Child's ability\"\n",
        "\n",
        "child = Child()\n",
        "print(child.ability1())\n",
        "print(child.ability2())\n",
        "print(child.ability3())"
      ],
      "metadata": {
        "colab": {
          "base_uri": "https://localhost:8080/"
        },
        "id": "6deHkqhZdX0U",
        "outputId": "b2a321ac-bb8d-4b1c-882c-1802d47f5572"
      },
      "execution_count": 3,
      "outputs": [
        {
          "output_type": "stream",
          "name": "stdout",
          "text": [
            "Father's ability\n",
            "Mother's ability\n",
            "Child's ability\n"
          ]
        }
      ]
    },
    {
      "cell_type": "code",
      "source": [
        "# Hierarchial inheritance\n",
        "\n",
        "class Animal:\n",
        "  def speak(self):\n",
        "    return \"Animal speaks\"\n",
        "\n",
        "class Dog(Animal):\n",
        "  def bark(self):\n",
        "    return \"Dog barks\"\n",
        "\n",
        "class Cat(Animal):\n",
        "  def meow(self):\n",
        "    return \"Cat meow\"\n",
        "\n",
        "dog = Dog()\n",
        "cat = Cat()\n",
        "\n",
        "print(dog.speak())\n",
        "print(dog.bark())\n",
        "\n",
        "print(cat.speak())\n",
        "print(cat.meow())"
      ],
      "metadata": {
        "colab": {
          "base_uri": "https://localhost:8080/"
        },
        "id": "oCgQUMD4fETN",
        "outputId": "4205768a-3044-4e3d-d686-e990fc20d56d"
      },
      "execution_count": 4,
      "outputs": [
        {
          "output_type": "stream",
          "name": "stdout",
          "text": [
            "Animal speaks\n",
            "Dog barks\n",
            "Animal speaks\n",
            "Cat meow\n"
          ]
        }
      ]
    }
  ]
}