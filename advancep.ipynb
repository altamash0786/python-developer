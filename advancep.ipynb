{
  "nbformat": 4,
  "nbformat_minor": 0,
  "metadata": {
    "colab": {
      "provenance": [],
      "authorship_tag": "ABX9TyM7roVtk1DP+s+b10/ciduO",
      "include_colab_link": true
    },
    "kernelspec": {
      "name": "python3",
      "display_name": "Python 3"
    },
    "language_info": {
      "name": "python"
    }
  },
  "cells": [
    {
      "cell_type": "markdown",
      "metadata": {
        "id": "view-in-github",
        "colab_type": "text"
      },
      "source": [
        "<a href=\"https://colab.research.google.com/github/altamash0786/python-developer/blob/main/advancep.ipynb\" target=\"_parent\"><img src=\"https://colab.research.google.com/assets/colab-badge.svg\" alt=\"Open In Colab\"/></a>"
      ]
    },
    {
      "cell_type": "code",
      "execution_count": 5,
      "metadata": {
        "colab": {
          "base_uri": "https://localhost:8080/"
        },
        "id": "aS3qLVUwqZ_6",
        "outputId": "74e14ab8-b72b-49a6-cd52-13a18ab95cfd"
      },
      "outputs": [
        {
          "output_type": "stream",
          "name": "stdout",
          "text": [
            "Post Request: 201\n",
            "{'title': 'My name is Khan', 'body': 'khan', 'userId': 1, 'id': 101}\n",
            "Put Request: 200\n",
            "{'id': 1, 'title': 'Rehan khan', 'body': 'raza', 'userId': 1}\n",
            "Delete Response: 200\n"
          ]
        }
      ],
      "source": [
        "import requests\n",
        "url = 'https://jsonplaceholder.typicode.com/posts'\n",
        "\n",
        "data = {\n",
        "    \"title\" : \"My name is Khan\",\n",
        "    \"body\" : \"khan\",\n",
        "    \"userId\" : 1\n",
        "}\n",
        "\n",
        "response_post = requests.post(url, json=data)\n",
        "print(f\"Post Request: {response_post.status_code}\")\n",
        "print(response_post.json())\n",
        "\n",
        "put_url = f\"{url}/1\"\n",
        "update_data = {\n",
        "    \"id\": 1,\n",
        "    \"title\" : \"Rehan khan\",\n",
        "    \"body\" : \"raza\",\n",
        "    \"userId\" : 1\n",
        "}\n",
        "response_put = requests.put(put_url, json=update_data)\n",
        "print(f\"Put Request: {response_put.status_code}\")\n",
        "print(response_put.json())\n",
        "\n",
        "response_delete = requests.delete(put_url)\n",
        "print(f\"Delete Response: {response_delete.status_code}\")"
      ]
    },
    {
      "cell_type": "code",
      "source": [
        "  #list comprehension with lambda function\n",
        "\n",
        "numbers = [1, 2, 3, 4, 5]\n",
        "\n",
        "new_numbers = [(lambda x: x*4)(x) for x in numbers]\n",
        "print(new_numbers)\n"
      ],
      "metadata": {
        "colab": {
          "base_uri": "https://localhost:8080/"
        },
        "id": "ODRj5MNGushA",
        "outputId": "51afa222-ef01-407d-c0a7-e585e4565586"
      },
      "execution_count": 9,
      "outputs": [
        {
          "output_type": "stream",
          "name": "stdout",
          "text": [
            "[4, 8, 12, 16, 20]\n"
          ]
        }
      ]
    },
    {
      "cell_type": "code",
      "source": [
        "# To using Map()\n",
        "\n",
        "numbers = [1, 2, 3, 4, 5]\n",
        "\n",
        "new_numbers = list(map(lambda x: x*x, numbers))\n",
        "print(new_numbers)\n"
      ],
      "metadata": {
        "colab": {
          "base_uri": "https://localhost:8080/"
        },
        "id": "VlO4425awIET",
        "outputId": "b4dea8ba-7f6b-4371-f9d9-65dd39382f88"
      },
      "execution_count": 10,
      "outputs": [
        {
          "output_type": "stream",
          "name": "stdout",
          "text": [
            "[1, 4, 9, 16, 25]\n"
          ]
        }
      ]
    },
    {
      "cell_type": "code",
      "source": [
        "# To using filter()\n",
        "\n",
        "numbers = [1, 2, 3, 4, 5, 6, 7, 8, 9, 10]\n",
        "\n",
        "odd_number = list(filter(lambda x: x%2!=0, numbers))\n",
        "\n",
        "print(odd_number)"
      ],
      "metadata": {
        "colab": {
          "base_uri": "https://localhost:8080/"
        },
        "id": "mh1OxXwlxDi0",
        "outputId": "f3438a77-69dc-4caf-ee72-7da716f74661"
      },
      "execution_count": 12,
      "outputs": [
        {
          "output_type": "stream",
          "name": "stdout",
          "text": [
            "[1, 3, 5, 7, 9]\n"
          ]
        }
      ]
    },
    {
      "cell_type": "code",
      "source": [
        "# list comprehension\n",
        "\n",
        "animals = [\"cat\", \"dog\", \"rat\", \"rabbit\", \"lion\"]\n",
        "\n",
        "newlist = [i for i in animals if \"a\" in i]\n",
        "print(newlist)"
      ],
      "metadata": {
        "colab": {
          "base_uri": "https://localhost:8080/"
        },
        "id": "bArW_DpIxt7j",
        "outputId": "cb1ca7b3-007b-46c1-9876-157f969c745e"
      },
      "execution_count": 14,
      "outputs": [
        {
          "output_type": "stream",
          "name": "stdout",
          "text": [
            "['cat', 'rat', 'rabbit']\n"
          ]
        }
      ]
    },
    {
      "cell_type": "code",
      "source": [
        "#Generator function\n",
        "\n",
        "def number_generator(n):\n",
        "  for i in range(1,n+1):\n",
        "    yield i\n",
        "\n",
        "gen = number_generator(8)\n",
        "\n",
        "for num in gen:\n",
        "  print(num)"
      ],
      "metadata": {
        "colab": {
          "base_uri": "https://localhost:8080/"
        },
        "id": "IXNmDKO2ymm7",
        "outputId": "7ff9ea3b-1213-4c65-f680-c6f12282a22f"
      },
      "execution_count": 22,
      "outputs": [
        {
          "output_type": "stream",
          "name": "stdout",
          "text": [
            "1\n",
            "2\n",
            "3\n",
            "4\n",
            "5\n",
            "6\n",
            "7\n",
            "8\n"
          ]
        }
      ]
    },
    {
      "cell_type": "code",
      "source": [
        "# Decorator function\n",
        "def decorator(func):\n",
        "  def wrapper():\n",
        "    print(\"befor the function call\")\n",
        "    func()\n",
        "    print(\"After the function call\")\n",
        "  return wrapper\n",
        "\n",
        "@decorator\n",
        "def hello():\n",
        "  print(\"hello\")\n",
        "\n",
        "hello()"
      ],
      "metadata": {
        "colab": {
          "base_uri": "https://localhost:8080/"
        },
        "id": "Qb9G9jgCzVZp",
        "outputId": "a3010833-4226-479c-9c96-27f4c7f3a399"
      },
      "execution_count": 20,
      "outputs": [
        {
          "output_type": "stream",
          "name": "stdout",
          "text": [
            "befor the function call\n",
            "hello\n",
            "After the function call\n"
          ]
        }
      ]
    }
  ]
}