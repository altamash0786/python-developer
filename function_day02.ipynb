{
  "nbformat": 4,
  "nbformat_minor": 0,
  "metadata": {
    "colab": {
      "provenance": [],
      "authorship_tag": "ABX9TyNzL2JdRCKdQEzYjRxodfM8",
      "include_colab_link": true
    },
    "kernelspec": {
      "name": "python3",
      "display_name": "Python 3"
    },
    "language_info": {
      "name": "python"
    }
  },
  "cells": [
    {
      "cell_type": "markdown",
      "metadata": {
        "id": "view-in-github",
        "colab_type": "text"
      },
      "source": [
        "<a href=\"https://colab.research.google.com/github/altamash0786/python-developer/blob/main/function_day02.ipynb\" target=\"_parent\"><img src=\"https://colab.research.google.com/assets/colab-badge.svg\" alt=\"Open In Colab\"/></a>"
      ]
    },
    {
      "cell_type": "code",
      "execution_count": 5,
      "metadata": {
        "colab": {
          "base_uri": "https://localhost:8080/"
        },
        "id": "ZzX1QquuLyhW",
        "outputId": "8ef73cf3-2226-43b9-a7d2-a6d74b645ea9"
      },
      "outputs": [
        {
          "output_type": "stream",
          "name": "stdout",
          "text": [
            "Branch 1: Available stock is 65.00%\n",
            "Branch 2: Available stock is 76.47%\n",
            "Branch 3: Available stock is 61.54%\n",
            "Branch 4: Available stock is 57.89%\n"
          ]
        }
      ],
      "source": [
        "'''\n",
        "There is a famous clothing store in a city, which has four different sub-branches under the main branch. End of each day four sub-branches should report back to the main branch about available stock in percentage.\n",
        "\n",
        "write a python program and create four different branches and print just the available stock of each branch.\n",
        "#create four functions with name of your choice which should consists of one variable as total_stock, sold_stocks, available_stock and a print statement that prints the available stock value with a proper print statement\n",
        "'''\n",
        "def branch_1(total_stock, sold_stock):\n",
        "  available_stock = total_stock - sold_stock\n",
        "  print(f\"Branch 1: Available stock is {available_stock/total_stock * 100:.2f}%\")\n",
        "\n",
        "def branch_2(total_stock, sold_stock):\n",
        "  available_stock = total_stock - sold_stock\n",
        "  print(f\"Branch 2: Available stock is {available_stock/total_stock * 100:.2f}%\")\n",
        "\n",
        "def branch_3(total_stock, sold_stock):\n",
        "  available_stock = total_stock - sold_stock\n",
        "  print(f\"Branch 3: Available stock is {available_stock/total_stock * 100:.2f}%\")\n",
        "def branch_4(total_stock, sold_stock):\n",
        "  available_stock = total_stock - sold_stock\n",
        "  print(f\"Branch 4: Available stock is {available_stock/total_stock * 100:.2f}%\")\n",
        "\n",
        "branch_1(1000,350)\n",
        "branch_2(850,200)\n",
        "branch_3(650,250)\n",
        "branch_4(950,400)\n"
      ]
    },
    {
      "cell_type": "code",
      "source": [
        "'''\n",
        "Jack, a 19 year old, has learnt python. He has written a code using python that\n",
        "will literally accept color names as an input from the user and prints all of the\n",
        "colors. Jack is still thinking of a logic and whenever the color is red hence he\n",
        "wrote a if condition inside a for loop but the compiler started throwing an error\n",
        "stating that if condition cannot be left empty.\n",
        "So write a python program to help Jack to keep his if condition empty temporarily\n",
        "and print rest of the colors using a for loo\n",
        "#create a variable named colors and accept input from the users saying \"Enter your\n",
        "favorite colors seperated with commas (ex: orange,yellow,red,blue,black,pink...)\n",
        ": \" , red should be one of the colors and use .split(\",\") to split all the\n",
        "entered colors into different items of a list (read Hint 3 for reference)\n",
        "'''\n",
        "colors = input(\"Enter your favorite colors seperated with commas (ex: orange,yellow,red,blue,black,pink...: \")\n",
        "colors_list = colors.split(\",\")\n",
        "\n",
        "for  color in colors_list:\n",
        "  if color.strip().lower() == \"red\":\n",
        "    print(\"Nothing happened when red\")\n",
        "  else:\n",
        "    print(color.strip())"
      ],
      "metadata": {
        "colab": {
          "base_uri": "https://localhost:8080/"
        },
        "id": "35Fs4D9COCCT",
        "outputId": "c48a74d8-acf0-4917-a925-f37611cacce9"
      },
      "execution_count": 15,
      "outputs": [
        {
          "output_type": "stream",
          "name": "stdout",
          "text": [
            "Enter your favorite colors seperated with commas (ex: orange,yellow,red,blue,black,pink...: orange,yellow,red,blue,black,pink,black\n",
            "orange\n",
            "yellow\n",
            "Nothing happened when red\n",
            "blue\n",
            "black\n",
            "pink\n",
            "black\n"
          ]
        }
      ]
    },
    {
      "cell_type": "code",
      "source": [
        "'''\n",
        "Ms. Edna Francis, science teacher in Wommack High School, conducted an mid-term\n",
        "exam in the class and evaluated the kids marksheets, there are totally 180 students\n",
        "in the class and its hard for Ms. Edna Francis to perform the following operations :\n",
        "1) Store marks in one place\n",
        "2) know the marks of the kids based on there roll number starting from 0th Roll Number Student\n",
        "3) Find the Maximum Marks Scored out of all marks entered\n",
        "4) Find the Minimum Marks Scored out of all marks entered\n",
        "5) Get the Top 3 Students who scored top 3 marks and Bottom 3 students who scored\n",
        "less marks so that she can pair them up such that the toppers can help the weak kids to make them better\n",
        "6) Now marks are highly confidential hence no one should be enter any other data\n",
        "into the records where marks are stored hence the records once created should not\n",
        "be able to modify and if anyone tries to add anything then throw an error\n",
        "For implementation purpose lets take some 1\n",
        "#ask the user to choose any one option from the options specified in the description by printing them\n",
        "#make use of the if-else conditions and perform the actions accordingly\n",
        "'''\n",
        "num_student = int(input(\"How many students enter the marks:\"))\n",
        "marks = []\n",
        "\n",
        "print(f\"Enter marks for {num_student} students:\")\n",
        "for i in range(1,num_student):\n",
        "  mark = int(input(f\"Enter marks for students with roll number {i}: \"))\n",
        "  marks.append(mark)\n",
        "\n",
        "marks = tuple(marks)\n",
        "\n",
        "while True:\n",
        "  print(\"\\nChoose an options:\")\n",
        "  print(\"1. Find maximum Marks\")\n",
        "  print(\"2. find minimum marks\")\n",
        "  print(\"3. Get the Top 3 Students\")\n",
        "  print(\"4. Exit\")\n",
        "\n",
        "  choice = int(input(\"Enter your choice: \"))\n",
        "\n",
        "  if choice == 1:\n",
        "    max_marks = max(marks)\n",
        "    print(\"Maximum Marks scores\", max_marks)\n",
        "  elif choice == 2:\n",
        "    min_marks = min(marks)\n",
        "    print(\"Mininum Marks scored\", min_marks)\n",
        "  elif choice == 3:\n",
        "    sorted_marks = sorted(marks, reverse=True)\n",
        "    top_3 = sorted_marks[:3]\n",
        "    buttom_3 = sorted_marks[-3:]\n",
        "    print(\"Top 3 stuudents scored:\",top_3)\n",
        "    print(\"Bottom 3 student scored:\", buttom_3)\n",
        "\n",
        "  elif choice == 4:\n",
        "    print(\"Exiting\")\n",
        "    break\n",
        "  else:\n",
        "    print(\"Invalid choice. Please try again.\")"
      ],
      "metadata": {
        "colab": {
          "base_uri": "https://localhost:8080/"
        },
        "id": "2OMiH6D_RF_9",
        "outputId": "87466b90-704a-43b7-f0b1-820ef989e9b4"
      },
      "execution_count": 29,
      "outputs": [
        {
          "output_type": "stream",
          "name": "stdout",
          "text": [
            "How many students enter the marks:10\n",
            "Enter marks for 10 students:\n",
            "Enter marks for students with roll number 1: 88\n",
            "Enter marks for students with roll number 2: 76\n",
            "Enter marks for students with roll number 3: 99\n",
            "Enter marks for students with roll number 4: 77\n",
            "Enter marks for students with roll number 5: 92\n",
            "Enter marks for students with roll number 6: 56\n",
            "Enter marks for students with roll number 7: 91\n",
            "Enter marks for students with roll number 8: 54\n",
            "Enter marks for students with roll number 9: 66\n",
            "\n",
            "Choose an options:\n",
            "1. Find maximum Marks\n",
            "2. find minimum marks\n",
            "3. Get the Top 3 Students\n",
            "4. Exit\n",
            "Enter your choice: 3\n",
            "Top 3 stuudents scored: [99, 92, 91]\n",
            "Bottom 3 student scored: [66, 56, 54]\n",
            "\n",
            "Choose an options:\n",
            "1. Find maximum Marks\n",
            "2. find minimum marks\n",
            "3. Get the Top 3 Students\n",
            "4. Exit\n",
            "Enter your choice: 1\n",
            "Maximum Marks scores 99\n",
            "\n",
            "Choose an options:\n",
            "1. Find maximum Marks\n",
            "2. find minimum marks\n",
            "3. Get the Top 3 Students\n",
            "4. Exit\n",
            "Enter your choice: 4\n",
            "Exiting\n"
          ]
        }
      ]
    }
  ]
}