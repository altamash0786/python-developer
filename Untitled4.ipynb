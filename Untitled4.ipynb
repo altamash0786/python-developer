{
  "nbformat": 4,
  "nbformat_minor": 0,
  "metadata": {
    "colab": {
      "provenance": [],
      "authorship_tag": "ABX9TyN/LQgpkkMVU0f7ADR58eqg",
      "include_colab_link": true
    },
    "kernelspec": {
      "name": "python3",
      "display_name": "Python 3"
    },
    "language_info": {
      "name": "python"
    }
  },
  "cells": [
    {
      "cell_type": "markdown",
      "metadata": {
        "id": "view-in-github",
        "colab_type": "text"
      },
      "source": [
        "<a href=\"https://colab.research.google.com/github/altamash0786/python-developer/blob/main/Untitled4.ipynb\" target=\"_parent\"><img src=\"https://colab.research.google.com/assets/colab-badge.svg\" alt=\"Open In Colab\"/></a>"
      ]
    },
    {
      "cell_type": "code",
      "source": [
        "'''\n",
        "Ms. Edna Francis, science teacher in Wommack High School, conducted an mid-term\n",
        "exam in the class and evaluated the kids marksheets, there are totally 180\n",
        "students in the class and its hard for Ms. Edna Francis to perform the following\n",
        "operations :\n",
        "1) Store marks in one place\n",
        "2) know the marks of the kids based on there roll number starting from 0th Roll\n",
        "Number Student\n",
        "3) Find the Maximum Marks Scored out of all marks entered\n",
        "4) Find the Minimum Marks Scored out of all marks entered\n",
        "5) Get the Top 3 Students who scored top 3 marks and Bottom 3 students who\n",
        "scored less marks so that she can pair them up such that the toppers can help\n",
        "the weak kids to make them better\n",
        "6) Now marks are highly confidential hence no one should be enter any other data\n",
        "into the records where marks are stored hence the records once created should\n",
        "not be able to modify and if anyone tries to add anything then throw an error\n",
        "For implementation purpose lets take some 1\n",
        "'''\n",
        "marks_list = [80, 90, 70, 60, 85, 90]\n",
        "roll_number =\n"
      ],
      "metadata": {
        "id": "3Ms8BkodcPyF"
      },
      "execution_count": null,
      "outputs": []
    },
    {
      "cell_type": "code",
      "source": [
        "'''\n",
        "Dictionary for Helbert To Manage his company students data it should perform as\n",
        "follows\n",
        "In a company for each student an student id is provided to access the student\n",
        "details easily.\n",
        "You can see there will be people with the same name . To avoid confusion each\n",
        "student should be provided with the an unique student ID\n",
        "For example, there are two rajesh in the same company. There will be confusion\n",
        "if the management uses the name . So, an unique id\n",
        "[10 : \"Arjun\" ,11 : \"Rajesh\",12 :\"Rajesh \" 13: \"sathish\"]\n",
        "The management wants to send a message to each and every student.For that they\n",
        "are planning to use the student ID that they provided for each student. (Just print “message sent to : empid”)\n",
        "There are two new students who are joining in this company and the management wants to assign student id to them also and want to add their data in the existing student details.\n",
        "first create an empty dictionary and add those student details in that and merge t\n",
        "\n",
        "\n",
        "\n",
        "\n",
        "Mr. Helbert Surely needs an update on his Student Data Management App To Store the Details of the kids along with there Id for example\n",
        "{23: {name:\"cherry\", age:24, email:cherry@gmail.com...}}\n",
        "\n",
        "\n",
        "'''\n",
        "students = {\n",
        "    10: \"Arjun\",\n",
        "    11: \"Rajesh\",\n",
        "    12: \"Rajesh\",\n",
        "    13: \"Sathish\"\n",
        "}\n",
        "\n",
        "for student_id in students:\n",
        "    print(f\"Message sent to: {student_id}\")\n",
        "\n",
        "new_students = {14:\"Rehan\",15:\"Ayan\"}\n",
        "\n",
        "students.update(new_students)\n",
        "student_details = {\n",
        "    10:{\"name\": \"Arjun\", \"age\": 25, \"email\": \"arjun123@gmail.com\"},\n",
        "    11:{\"name\": \"Rajesh\", \"age\": 24, \"email\": \"rajesh12@gmail.com\"},\n",
        "    12:{\"name\": \"Rajesh\", \"age\": 23, \"email\": \"arjun09@gmail.com\"},\n",
        "    13:{\"name\": \"Satish\", \"age\": 22, \"email\": \"satish23@gmail.com\"},\n",
        "    14:{\"name\": \"Rehan\", \"age\": 26, \"email\": \"rehan45@gmail.com\"},\n",
        "    15:{\"name\": \"Ayan\", \"age\": 21, \"email\": \"ayan78@gmail.com\"}\n",
        "}\n",
        "\n",
        "for student_id, details in student_details.items():\n",
        "    print(f\"ID:{student_id}, Name:{details['name']}, Age{details['age']}, Email:{details['email']}\")\n"
      ],
      "metadata": {
        "colab": {
          "base_uri": "https://localhost:8080/"
        },
        "id": "OL1ws9PUfHO3",
        "outputId": "3e49648c-cdb7-46e9-e81a-a171df06b2b6"
      },
      "execution_count": 3,
      "outputs": [
        {
          "output_type": "stream",
          "name": "stdout",
          "text": [
            "Message sent to: 10\n",
            "Message sent to: 11\n",
            "Message sent to: 12\n",
            "Message sent to: 13\n",
            "ID:10, Name:Arjun, Age25, Email:arjun123@gmail.com\n",
            "ID:11, Name:Rajesh, Age24, Email:rajesh12@gmail.com\n",
            "ID:12, Name:Rajesh, Age23, Email:arjun09@gmail.com\n",
            "ID:13, Name:Satish, Age22, Email:satish23@gmail.com\n",
            "ID:14, Name:Rehan, Age26, Email:rehan45@gmail.com\n",
            "ID:15, Name:Ayan, Age21, Email:ayan78@gmail.com\n"
          ]
        }
      ]
    },
    {
      "cell_type": "code",
      "source": [
        "'''\n",
        "Mary, a 15 year old girl, was watching her mom making a budget list every month,\n",
        " either her mom use to forget few things or she use to go out of budget due to\n",
        " no proper grocery list that says quantity of items, prices and stuff.\n",
        "So Mary wants to help her mom in managing the monthly groceries by creating an\n",
        "app that takes grocery item name, item price and quantity of item.\n",
        "Before all this, the app is suppose to accept the budget amount, if shopping\n",
        "list items price cross over the budget amount then any new items should not be\n",
        "added to the list.\n",
        "There should be 2 things in the menu of the app one to add an item and the\n",
        "second option to exit from the menu once the add item is chosen, then the item\n",
        "name, item quantity and item price should be accepted and the price should be\n",
        "checked with the budget amount. If the item amount is crossing the budget amount\n",
        " then the item cannot be added to the list.\n",
        "If the exit option is chosen then the total budget amount.\n",
        "\n",
        "'''\n",
        "\n",
        "budget = float(input(\"Enter your budget for the months: \"))\n",
        "total_spent = 0\n",
        "grocery_list = []\n",
        "while True:\n",
        "  print(\"\\nMenu\")\n",
        "  print(\"1. Add item\")\n",
        "  print(\"2. Exit\")\n",
        "\n",
        "  choice = input(\"choice option: \")\n",
        "\n",
        "  if choice == '1':\n",
        "    item_name = input(\"Enter the item name: \")\n",
        "    item_quantity = int(input(\"Enter the quantity of the item: \"))\n",
        "    item_price = float(input(\"Enter the price of the item: \"))\n",
        "\n",
        "    item_total_price = item_quantity * item_price\n",
        "\n",
        "    if total_spent + item_total_price > budget:\n",
        "       print(f\"Can't add {item_name}. it exceeds the budget by {item_total_price + total_spent - budget}!\")\n",
        "    else:\n",
        "      grocery_list.append([item_name, item_quantity, item_price,item_total_price])\n",
        "      total_spent += item_total_price\n",
        "      print(f\"{item_name} added to the list. \")\n",
        "\n",
        "  elif choice == '2':\n",
        "    print(\"\\nFinal Grocery list: \")\n",
        "    for item in grocery_list:\n",
        "        print(f\"{item[0]}- Quality: {item[1]}, Price: {item[2]}, Total:{item[3]}\")\n",
        "    print(f\"\\nTotal spent: {total_spent}\")\n",
        "    print(f\"Remaining budget: {budget - total_spent}\")\n",
        "    break\n",
        "  else:\n",
        "    print(\"Invalid option. please choose 1 or 2.!\")\n",
        "\n"
      ],
      "metadata": {
        "colab": {
          "base_uri": "https://localhost:8080/"
        },
        "id": "zxpXtK7EkAK9",
        "outputId": "60027b82-e58e-44bc-db97-80faa5c2e277"
      },
      "execution_count": 4,
      "outputs": [
        {
          "output_type": "stream",
          "name": "stdout",
          "text": [
            "Enter your budget for the months: 1000\n",
            "\n",
            "Menu\n",
            "1. Add item\n",
            "2. Exit\n",
            "choice option: 1\n",
            "Enter the item name: vegitable\n",
            "Enter the quantity of the item: 2\n",
            "Enter the price of the item: 20\n",
            "vegitable added to the list. \n",
            "\n",
            "Menu\n",
            "1. Add item\n",
            "2. Exit\n",
            "choice option: 1\n",
            "Enter the item name: oil\n",
            "Enter the quantity of the item: 5\n",
            "Enter the price of the item: 150\n",
            "oil added to the list. \n",
            "\n",
            "Menu\n",
            "1. Add item\n",
            "2. Exit\n",
            "choice option: 2\n",
            "\n",
            "Final Grocery list: \n",
            "vegitable- Quality: 2, Price: 20.0, Total:40.0\n",
            "oil- Quality: 5, Price: 150.0, Total:750.0\n",
            "\n",
            "Total spent: 790.0\n",
            "Remaining budget: 210.0\n"
          ]
        }
      ]
    },
    {
      "cell_type": "code",
      "source": [
        "'''\n",
        "In a school, a science exhibition is conducted by senior students. Teams should\n",
        "register to participate in that exhibition. To identify each team, planet names\n",
        "are used. The same planet's name should not be used by teams. A maximum of\n",
        "nine teams are allowed. So the students want to create a python program that\n",
        "should not store duplicate names for registration.\n",
        "Write a python code to store all registering names and avoid duplicate names\n",
        "using sets datatype.#show the names of the three groups #ask the user to enter\n",
        "the planet name #if it doesn’t exists then add it to the set else ask the user\n",
        "to enter any different planet name\n",
        "\n",
        "'''\n",
        "registered_teams = set()\n",
        "\n",
        "registered_teams.update([\"Earth\", \"Mars\", \"Venus\"])\n",
        "\n",
        "print(\"Teams already registered with planet names: \", registered_teams)\n",
        "\n",
        "while len(registered_teams) < 9:\n",
        "\n",
        "    planet_name = input(\"Enter a planet name for team registration: \")\n",
        "\n",
        "    if planet_name in registered_teams:\n",
        "        print(f\"{planet_name} is already registered. Please enter a different planet name.\")\n",
        "    else:\n",
        "        registered_teams.add(planet_name)\n",
        "        print(f\"{planet_name} has been successfully registered.\")\n",
        "\n",
        "\n",
        "print(\"\\nFinal registered teams:\", registered_teams)\n"
      ],
      "metadata": {
        "colab": {
          "base_uri": "https://localhost:8080/"
        },
        "id": "-ROFpU6sq71y",
        "outputId": "5c348b94-ca41-423e-e761-5c4630ae098c"
      },
      "execution_count": 6,
      "outputs": [
        {
          "output_type": "stream",
          "name": "stdout",
          "text": [
            "Teams already registered with planet names:  {'Venus', 'Mars', 'Earth'}\n",
            "Enter a planet name for team registration: Jupiter\n",
            "Jupiter has been successfully registered.\n",
            "Enter a planet name for team registration: Earth\n",
            "Earth is already registered. Please enter a different planet name.\n",
            "Enter a planet name for team registration: Saturn\n",
            "Saturn has been successfully registered.\n",
            "Enter a planet name for team registration: Mercury\n",
            "Mercury has been successfully registered.\n",
            "Enter a planet name for team registration: Uranus\n",
            "Uranus has been successfully registered.\n",
            "Enter a planet name for team registration: Neptune\n",
            "Neptune has been successfully registered.\n",
            "Enter a planet name for team registration: Pluto\n",
            "Pluto has been successfully registered.\n",
            "\n",
            "Final registered teams: {'Venus', 'Pluto', 'Uranus', 'Mercury', 'Saturn', 'Jupiter', 'Earth', 'Mars', 'Neptune'}\n"
          ]
        }
      ]
    }
  ]
}