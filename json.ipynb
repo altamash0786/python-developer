{
  "nbformat": 4,
  "nbformat_minor": 0,
  "metadata": {
    "colab": {
      "provenance": [],
      "authorship_tag": "ABX9TyPnM5eYYPf1YerH/fWXbDlY",
      "include_colab_link": true
    },
    "kernelspec": {
      "name": "python3",
      "display_name": "Python 3"
    },
    "language_info": {
      "name": "python"
    }
  },
  "cells": [
    {
      "cell_type": "markdown",
      "metadata": {
        "id": "view-in-github",
        "colab_type": "text"
      },
      "source": [
        "<a href=\"https://colab.research.google.com/github/altamash0786/python-developer/blob/main/json.ipynb\" target=\"_parent\"><img src=\"https://colab.research.google.com/assets/colab-badge.svg\" alt=\"Open In Colab\"/></a>"
      ]
    },
    {
      "cell_type": "code",
      "execution_count": 1,
      "metadata": {
        "colab": {
          "base_uri": "https://localhost:8080/"
        },
        "id": "OYIwIB3nrWoK",
        "outputId": "336d8690-6188-4283-80de-aef97d7c195d"
      },
      "outputs": [
        {
          "output_type": "stream",
          "name": "stdout",
          "text": [
            "Random data Chuck Norris always gives you one phone call. Heh.\n"
          ]
        }
      ],
      "source": [
        "# GET request\n",
        "import requests\n",
        "\n",
        "response = requests.get(' https://api.chucknorris.io/jokes/random')\n",
        "\n",
        "if response.status_code == 200:\n",
        "  data = response.json()\n",
        "  print(\"Random data:\", data['value'])\n",
        "else:\n",
        "  print(f\"Failed to retrieve data. Status code{response.status_code}\")\n"
      ]
    },
    {
      "cell_type": "code",
      "source": [
        "#Post request\n",
        "import requests\n",
        "\n",
        "url = 'https://jsonplaceholder.typicode.com/posts/1/comments'\n",
        "data = {\n",
        "    'name':'khan',\n",
        "    'body':'This is random paragraph.',\n",
        "    'userId': 1\n",
        "}\n",
        "\n",
        "response = requests.post(url, json=data)\n",
        "if response.status_code == 201:\n",
        "  post_response = response.json()\n",
        "  print(\"Post request response:\", post_response)\n",
        "else:\n",
        "  print(f\"Failed to create post. Status code:{response.status_code}\")\n"
      ],
      "metadata": {
        "colab": {
          "base_uri": "https://localhost:8080/"
        },
        "id": "hTqaTzFgtpXJ",
        "outputId": "a39814f5-9fdc-4564-a31c-2569cde7c14b"
      },
      "execution_count": 2,
      "outputs": [
        {
          "output_type": "stream",
          "name": "stdout",
          "text": [
            "Post request response: {'name': 'khan', 'body': 'This is random paragraph.', 'userId': 1, 'postId': '1', 'id': 501}\n"
          ]
        }
      ]
    },
    {
      "cell_type": "code",
      "source": [
        "# random password generator\n",
        "\n",
        "import requests\n",
        "\n",
        "response = requests.get('https://randomuser.me/api/')\n",
        "if response.status_code == 200:\n",
        "  data = response.json()\n",
        "  password = data['results'][0]['login']['password']\n",
        "  print(\"Generated password:\", password)\n",
        "else:\n",
        "   print(f\"Failed password. status code: Status code: {response.status_code}\")"
      ],
      "metadata": {
        "colab": {
          "base_uri": "https://localhost:8080/"
        },
        "id": "J6vUgoGbv2zD",
        "outputId": "92ce8d2e-92f1-4182-d9f9-c6209c8212de"
      },
      "execution_count": 6,
      "outputs": [
        {
          "output_type": "stream",
          "name": "stdout",
          "text": [
            "Generated password: hokies\n"
          ]
        }
      ]
    },
    {
      "cell_type": "code",
      "source": [
        "# Random Quote engine:\n",
        "import random\n",
        "\n",
        "def random_quote():\n",
        "  quotes= [\n",
        "      \"The will of man is his happiness.\",\n",
        "      \"Friedrich Schiller\",\n",
        "       \"happiness\"\n",
        "      ]\n",
        "\n",
        "  return random.choice(quotes)\n",
        "print(\"Random Quote: \", random_quote())\n"
      ],
      "metadata": {
        "colab": {
          "base_uri": "https://localhost:8080/"
        },
        "id": "nDfWQ11K1zk0",
        "outputId": "8a1b53c2-e8b0-41ca-e38c-123a67a8bfb7"
      },
      "execution_count": 12,
      "outputs": [
        {
          "output_type": "stream",
          "name": "stdout",
          "text": [
            "Random Quote:  The will of man is his happiness.\n"
          ]
        }
      ]
    }
  ]
}