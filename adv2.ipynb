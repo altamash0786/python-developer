{
  "nbformat": 4,
  "nbformat_minor": 0,
  "metadata": {
    "colab": {
      "provenance": [],
      "include_colab_link": true
    },
    "kernelspec": {
      "name": "python3",
      "display_name": "Python 3"
    },
    "language_info": {
      "name": "python"
    }
  },
  "cells": [
    {
      "cell_type": "markdown",
      "metadata": {
        "id": "view-in-github",
        "colab_type": "text"
      },
      "source": [
        "<a href=\"https://colab.research.google.com/github/altamash0786/python-developer/blob/main/adv2.ipynb\" target=\"_parent\"><img src=\"https://colab.research.google.com/assets/colab-badge.svg\" alt=\"Open In Colab\"/></a>"
      ]
    },
    {
      "cell_type": "code",
      "execution_count": null,
      "metadata": {
        "colab": {
          "base_uri": "https://localhost:8080/"
        },
        "id": "opF0G6wzUeAy",
        "outputId": "862f1d3f-d2a1-4304-b726-eb8f4c3c8188"
      },
      "outputs": [
        {
          "output_type": "stream",
          "name": "stdout",
          "text": [
            "{\"name\": \"steve\", \"age\": 10, \"country\": \"england\"}\n"
          ]
        }
      ],
      "source": [
        "import json\n",
        "\n",
        "data = {\n",
        "    \"name\":\"steve\",\n",
        "    \"age\":10,\n",
        "    \"country\":\"england\"\n",
        "\n",
        "}\n",
        "\n",
        "json_str = json.dumps(data)\n",
        "print(json_str)\n",
        "\n",
        "\n",
        "# with open(\"new.json\",'w') as file:\n",
        "#   json.dump(data,file)"
      ]
    },
    {
      "cell_type": "code",
      "source": [
        "#str back to object"
      ],
      "metadata": {
        "id": "juBuWuLFWZ8U"
      },
      "execution_count": null,
      "outputs": []
    },
    {
      "cell_type": "code",
      "source": [
        "#generators\n",
        "\n",
        "def generator():\n",
        "  for i in range(3):\n",
        "    yield i\n",
        "g = generator()\n",
        "\n",
        "for x in g:\n",
        "  print(x)"
      ],
      "metadata": {
        "colab": {
          "base_uri": "https://localhost:8080/"
        },
        "id": "arUGH0o7Wd2k",
        "outputId": "c7324dc3-02b4-49b7-fa2d-8ad65e08c4c2"
      },
      "execution_count": null,
      "outputs": [
        {
          "output_type": "stream",
          "name": "stdout",
          "text": [
            "0\n",
            "1\n",
            "2\n"
          ]
        }
      ]
    },
    {
      "cell_type": "code",
      "source": [
        "def g():\n",
        "  yield 1\n",
        "  yield 2\n",
        "x= g()\n",
        "\n",
        "for i in x:\n",
        "  print(i)\n",
        "\n",
        "\n"
      ],
      "metadata": {
        "colab": {
          "base_uri": "https://localhost:8080/"
        },
        "id": "WjITPADcXiwt",
        "outputId": "7ce4348c-1de2-4ff6-be19-f57f04214797"
      },
      "execution_count": null,
      "outputs": [
        {
          "output_type": "stream",
          "name": "stdout",
          "text": [
            "1\n",
            "2\n"
          ]
        }
      ]
    },
    {
      "cell_type": "code",
      "source": [
        "x = (i*i for i in range(10)) #generator expressions\n",
        "for i in x:\n",
        "  print(i)"
      ],
      "metadata": {
        "colab": {
          "base_uri": "https://localhost:8080/"
        },
        "id": "fjNdcsWoYJ2O",
        "outputId": "bcc89907-ddf4-494a-f811-1d160f663228"
      },
      "execution_count": null,
      "outputs": [
        {
          "output_type": "stream",
          "name": "stdout",
          "text": [
            "0\n",
            "1\n",
            "4\n",
            "9\n",
            "16\n",
            "25\n",
            "36\n",
            "49\n",
            "64\n",
            "81\n"
          ]
        }
      ]
    },
    {
      "cell_type": "code",
      "source": [
        "#decorators\n",
        "def deco(func):\n",
        "  def wrapper():\n",
        "    print(\"before\")\n",
        "    func()\n",
        "    print(\"after\")\n",
        "  return wrapper\n",
        "\n",
        "@deco #decorator\n",
        "def new():\n",
        "  print(\"hi bye\")\n",
        "\n",
        "new() #call the decorated function\n",
        "\n",
        "\n",
        "\n",
        "\n",
        "\n"
      ],
      "metadata": {
        "colab": {
          "base_uri": "https://localhost:8080/"
        },
        "id": "_Szj_9vxY62r",
        "outputId": "8d34e78b-32eb-4a5b-dcc5-1d1987fd2045"
      },
      "execution_count": null,
      "outputs": [
        {
          "output_type": "stream",
          "name": "stdout",
          "text": [
            "before\n",
            "hi bye\n",
            "after\n"
          ]
        }
      ]
    },
    {
      "cell_type": "code",
      "source": [
        "def deco1(func):\n",
        "  def wrapper():\n",
        "    print(\"before 1\")\n",
        "    func()\n",
        "\n",
        "    print(\"after 1\")\n",
        "  return wrapper\n",
        "\n",
        "def deco2(func):\n",
        "  def wrapper():\n",
        "    print(\"before 2\")\n",
        "    func()\n",
        "    print(\"after 2\")\n",
        "  return wrapper\n",
        "\n",
        "\n",
        "@deco1 #decorator\n",
        "@deco2\n",
        "def new():\n",
        "  print(\"hi bye\")\n",
        "\n",
        "new()"
      ],
      "metadata": {
        "colab": {
          "base_uri": "https://localhost:8080/"
        },
        "id": "HUoWrKbnb_ds",
        "outputId": "a325223d-96d3-4184-eb2d-c21ca614bbda"
      },
      "execution_count": null,
      "outputs": [
        {
          "output_type": "stream",
          "name": "stdout",
          "text": [
            "before 1\n",
            "before 2\n",
            "hi bye\n",
            "after 2\n",
            "after 1\n"
          ]
        }
      ]
    },
    {
      "cell_type": "code",
      "source": [
        "#*args and **kwargs\n",
        "\n"
      ],
      "metadata": {
        "id": "Uy8ctwI9eAic"
      },
      "execution_count": null,
      "outputs": []
    },
    {
      "cell_type": "code",
      "source": [
        "#*args tuple\n",
        "\n",
        "def func(*args):\n",
        "  for x in args:\n",
        "    print(x)\n",
        "\n",
        "func(1,4,7)\n",
        "func(\"apple\",\"mango\",\"grapes\")\n"
      ],
      "metadata": {
        "colab": {
          "base_uri": "https://localhost:8080/"
        },
        "id": "MDHtpZZ6c7nr",
        "outputId": "9a301ef4-6109-4b7e-e3fb-f09eb20ead4c"
      },
      "execution_count": null,
      "outputs": [
        {
          "output_type": "stream",
          "name": "stdout",
          "text": [
            "1\n",
            "4\n",
            "7\n",
            "apple\n",
            "mango\n",
            "grapes\n"
          ]
        }
      ]
    },
    {
      "cell_type": "code",
      "source": [
        "#**kwargs dictionary\n",
        "\n",
        "\n",
        "def func(**kwargs):\n",
        "  for key,value in kwargs.items():\n",
        "    print(\"{}:{}\".format(key,value))\n",
        "\n",
        "func(name=\"steve\",age=80,country=\"england\")\n"
      ],
      "metadata": {
        "colab": {
          "base_uri": "https://localhost:8080/"
        },
        "id": "DOo4WL7xfUD3",
        "outputId": "532269df-df8b-4a11-d37f-4afacca980a6"
      },
      "execution_count": null,
      "outputs": [
        {
          "output_type": "stream",
          "name": "stdout",
          "text": [
            "name:steve\n",
            "age:80\n",
            "country:england\n"
          ]
        }
      ]
    },
    {
      "cell_type": "code",
      "source": [
        "#combine both *args and **kwargs"
      ],
      "metadata": {
        "id": "W6pO-B9CgIJu"
      },
      "execution_count": null,
      "outputs": []
    }
  ]
}