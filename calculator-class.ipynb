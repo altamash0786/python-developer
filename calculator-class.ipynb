{
  "nbformat": 4,
  "nbformat_minor": 0,
  "metadata": {
    "colab": {
      "provenance": [],
      "authorship_tag": "ABX9TyMHbGYd09ff0e8CWz1/FUWg",
      "include_colab_link": true
    },
    "kernelspec": {
      "name": "python3",
      "display_name": "Python 3"
    },
    "language_info": {
      "name": "python"
    }
  },
  "cells": [
    {
      "cell_type": "markdown",
      "metadata": {
        "id": "view-in-github",
        "colab_type": "text"
      },
      "source": [
        "<a href=\"https://colab.research.google.com/github/altamash0786/python-developer/blob/main/calculator-class.ipynb\" target=\"_parent\"><img src=\"https://colab.research.google.com/assets/colab-badge.svg\" alt=\"Open In Colab\"/></a>"
      ]
    },
    {
      "cell_type": "code",
      "execution_count": 9,
      "metadata": {
        "colab": {
          "base_uri": "https://localhost:8080/"
        },
        "id": "QESN_ycaPdW_",
        "outputId": "d091b546-8301-4ada-df38-bdccdeb901d3"
      },
      "outputs": [
        {
          "output_type": "stream",
          "name": "stdout",
          "text": [
            "Addition: 15\n",
            "Subtraction: 5\n",
            "Multiplication: 50\n",
            "Division: 2.0\n"
          ]
        }
      ],
      "source": [
        "class Calculator:\n",
        "\n",
        "    def __init__(self, num1, num2):\n",
        "        self.num1 = num1\n",
        "        self.num2 = num2\n",
        "\n",
        "    def add(self):\n",
        "        return self.num1 + self.num2\n",
        "\n",
        "    def subtract(self):\n",
        "        return self.num1 - self.num2\n",
        "\n",
        "    def multiply(self):\n",
        "        return self.num1 * self.num2\n",
        "\n",
        "    def divide(self):\n",
        "        if self.num2 == 0:\n",
        "            return \"Cannot divide by zero\"\n",
        "        return self.num1 / self.num2\n",
        "\n",
        "obj = Calculator(10, 5)\n",
        "\n",
        "print(\"Addition:\", obj.add())\n",
        "print(\"Subtraction:\", obj.subtract())\n",
        "print(\"Multiplication:\", obj.multiply())\n",
        "print(\"Division:\", obj.divide())\n",
        "\n",
        ""
      ]
    }
  ]
}