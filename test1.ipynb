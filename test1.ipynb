{
  "nbformat": 4,
  "nbformat_minor": 0,
  "metadata": {
    "colab": {
      "provenance": [],
      "authorship_tag": "ABX9TyM0ZRsUUMoe5mlUzsR+X8HI",
      "include_colab_link": true
    },
    "kernelspec": {
      "name": "python3",
      "display_name": "Python 3"
    },
    "language_info": {
      "name": "python"
    }
  },
  "cells": [
    {
      "cell_type": "markdown",
      "metadata": {
        "id": "view-in-github",
        "colab_type": "text"
      },
      "source": [
        "<a href=\"https://colab.research.google.com/github/altamash0786/python-developer/blob/main/test1.ipynb\" target=\"_parent\"><img src=\"https://colab.research.google.com/assets/colab-badge.svg\" alt=\"Open In Colab\"/></a>"
      ]
    },
    {
      "cell_type": "code",
      "execution_count": 1,
      "metadata": {
        "colab": {
          "base_uri": "https://localhost:8080/"
        },
        "id": "bCQfpRIpmOmK",
        "outputId": "97efae24-a8ab-4c1f-b7d9-e35ffc97c78a"
      },
      "outputs": [
        {
          "output_type": "stream",
          "name": "stdout",
          "text": [
            "Enter the number of rows: 8\n",
            "Enter the number of columns: 7\n",
            "Total number of desk:  56\n",
            "Mr. james arrived? (yes/no): yes\n",
            "Mr. james has arrived. \n"
          ]
        }
      ],
      "source": [
        "'''\n",
        "In a classroom, there are desks arranged in a row and column fashion. The math\n",
        "teacher, Mr. James, asked one of the kid whose name was Robert to count the\n",
        "total number of desks present in the class. Robert was just wondering if there\n",
        "is software that could take the number of rows and number of columns and show\n",
        "how many desks there are that would make his job easier. So write a python\n",
        "program to help Robert to count the number of desks present in the class.Person\n",
        "Arrival Detector For James\n",
        "'''\n",
        "\n",
        "rows = int(input(\"Enter the number of rows: \"))\n",
        "columns = int(input(\"Enter the number of columns: \"))\n",
        "\n",
        "total_desks = rows * columns\n",
        "\n",
        "print(\"Total number of desk: \", total_desks)\n",
        "arrival = input(\"Mr. james arrived? (yes/no): \")\n",
        "\n",
        "if arrival.lower() == 'yes':\n",
        "  print(\"Mr. james has arrived. \")\n",
        "\n",
        "else:\n",
        "  print(\"Mr. james has not arrived yet.\")"
      ]
    },
    {
      "cell_type": "code",
      "source": [
        "'''\n",
        "Mr James, A businessman in canada was throwing a small party in a banquet hall and wanted to track the number of people attended the party so he kept a people tracker device in the entrance where every person enters is supposed to enter his or her authorization code to enter the hall, certain codes were assigned they are as follows :\n",
        "If Banquet Hall Team Members like Manager, waiter, and Mr. James himself then their authorization code will be : 0\n",
        "If Guests Their Authorization Code Will be : 1\n",
        "If the Authorization Code Entered is 1 then increment the number_of_guests Variable by 1, Wish the Guest like\n",
        "\"Door Opened\"\n",
        "\"Welcome to the Party, We Hope you have fun.\"\n",
        "else If the Authorization Code Entered is 0 then print as follows\n",
        "\"Access Granted\"\n",
        "\"Door Opened\"\n",
        "else tell the person that his entered number is invalid\n",
        "\n",
        "'''\n",
        "\n",
        "number_of_guests = 0\n",
        "n = int(input(\"Enter the number of people attempting to enter the party: \"))\n",
        "\n",
        "for i in range(n):\n",
        "  authorization_code = int(input(f\"Enter authorization code for person {i+1}: \"))\n",
        "  if authorization_code ==1:\n",
        "    number_of_guests +=1\n",
        "    print(\"Door Opened\")\n",
        "    print(\"Welcome to the party, we hope you have fun.\")\n",
        "  elif authorization_code == 0:\n",
        "    print(\"Access granted\")\n",
        "    print(\"Door Opened\")\n",
        "  else:\n",
        "    print(\"Invalid Authorization code\")\n",
        "print(f\"Total Guest Attended: {number_of_guests}\")"
      ],
      "metadata": {
        "colab": {
          "base_uri": "https://localhost:8080/"
        },
        "id": "R00gZVHTogA1",
        "outputId": "79859779-a4c6-4f70-dbc3-299936edc438"
      },
      "execution_count": 5,
      "outputs": [
        {
          "output_type": "stream",
          "name": "stdout",
          "text": [
            "Enter the number of people attempting to enter the party: 7\n",
            "Enter authorization code for person 1: 1\n",
            "Door Opened\n",
            "Welcome to the party, we hope you have fun.\n",
            "Enter authorization code for person 2: 0\n",
            "Access granted\n",
            "Door Opened\n",
            "Enter authorization code for person 3: 2\n",
            "Invalid Authorization code\n",
            "Enter authorization code for person 4: 3\n",
            "Invalid Authorization code\n",
            "Enter authorization code for person 5: 1\n",
            "Door Opened\n",
            "Welcome to the party, we hope you have fun.\n",
            "Enter authorization code for person 6: 0\n",
            "Access granted\n",
            "Door Opened\n",
            "Enter authorization code for person 7: 1\n",
            "Door Opened\n",
            "Welcome to the party, we hope you have fun.\n",
            "Total Guest Attended: 3\n"
          ]
        }
      ]
    },
    {
      "cell_type": "code",
      "source": [
        "'''\n",
        "Mathew, a 13 year old kid, is good at math but whenever it comes to the even and\n",
        "odd numbers he always faces difficulty to find the even or odd number greater\n",
        "than 10. So write a python program to help Mathew to print odd and even numbers\n",
        "in a certain range using a for loop.\n",
        "'''\n",
        "start = int(input(\"Enter the number start of the range: \"))\n",
        "end = int(input(\"Enter the end of the range: \"))\n",
        "\n",
        "if start <=10:\n",
        "  print(\"please enter a start value greater than 10.\")\n",
        "else:\n",
        "  print(\"Even number greater than 10 in the range\")\n",
        "  for num in range(start,end+1):\n",
        "    if num > 10 and num%2==0:\n",
        "      print(num)\n",
        "  print(\"Odd number greater than 10 in the range: \")\n",
        "  for num in range(start,end+1):\n",
        "    if num>10 and num % 2!=0:\n",
        "      print(num)\n"
      ],
      "metadata": {
        "colab": {
          "base_uri": "https://localhost:8080/"
        },
        "id": "IH-HJE6EsNhg",
        "outputId": "94999d0d-5b90-4ea1-96ed-dc51136f2a8b"
      },
      "execution_count": 6,
      "outputs": [
        {
          "output_type": "stream",
          "name": "stdout",
          "text": [
            "Enter the number start of the range: 11\n",
            "Enter the end of the range: 45\n",
            "Even number greater than 10 in the range\n",
            "12\n",
            "14\n",
            "16\n",
            "18\n",
            "20\n",
            "22\n",
            "24\n",
            "26\n",
            "28\n",
            "30\n",
            "32\n",
            "34\n",
            "36\n",
            "38\n",
            "40\n",
            "42\n",
            "44\n",
            "Odd number greater than 10 in the range: \n",
            "11\n",
            "13\n",
            "15\n",
            "17\n",
            "19\n",
            "21\n",
            "23\n",
            "25\n",
            "27\n",
            "29\n",
            "31\n",
            "33\n",
            "35\n",
            "37\n",
            "39\n",
            "41\n",
            "43\n",
            "45\n"
          ]
        }
      ]
    },
    {
      "cell_type": "code",
      "source": [
        "'''\n",
        "An online essay writing competition was held in a school. The students were\n",
        "required to write at least 250 words. According to the rule, only that essay\n",
        "should be checked which contains at least 250 words. Teachers were just guessing\n",
        "the number of words in the essay but that was not an accurate way to count the\n",
        "number of words. So write a program that can count the number of words in an\n",
        "essay ( Hint: Take input and count the number of words using for loop | Note:\n",
        "to count the number of words you can just count the number of blank spaces given\n",
        "in the input. )\n",
        "'''\n",
        "essay = input(\"Enter the essay text: \")\n",
        "\n",
        "word_count = 0\n",
        "for char in essay:\n",
        "  if char == ' ':\n",
        "    word_count +=1\n",
        "word_count +=1\n",
        "\n",
        "if word_count >=250:\n",
        "  print(\"The  essay is valid and has at least 250 words.\")\n",
        "else:\n",
        "  print(\"The essay does not meet the word count requirement. It has only\", word_count,\"words.\")"
      ],
      "metadata": {
        "colab": {
          "base_uri": "https://localhost:8080/"
        },
        "id": "Ep41UQs7ug5j",
        "outputId": "e8680f33-15dc-4269-947d-4968d0ba1d0f"
      },
      "execution_count": 7,
      "outputs": [
        {
          "output_type": "stream",
          "name": "stdout",
          "text": [
            "Enter the essay text: hhhhih hhgjhjh jbkhoh jhkhh jhlhlkh khlkj hlhlh jhlkj\n",
            "The essay does not meet the word count requirement. It has only 8 words.\n"
          ]
        }
      ]
    },
    {
      "cell_type": "code",
      "source": [
        "'''\n",
        "Create  a program that find the number is prime number or not.\n",
        "'''\n",
        "num = int(input(\"Enter a number: \"))\n",
        "\n",
        "is_prime = True\n",
        "\n",
        "if num<=1:\n",
        "  is_prime =False\n",
        "else:\n",
        "  for i in range(2, num):\n",
        "    if num % i == 0:\n",
        "      is_prime = False\n",
        "      break\n",
        "if is_prime:\n",
        "  print(f\"{num} is a prime number.\")\n",
        "else:\n",
        "  print(f\"{num} is not a Prime number. \")"
      ],
      "metadata": {
        "colab": {
          "base_uri": "https://localhost:8080/"
        },
        "id": "Qnl7Iyj0v7tv",
        "outputId": "378a9597-a212-4d01-cfdb-4bd655883bd5"
      },
      "execution_count": 10,
      "outputs": [
        {
          "output_type": "stream",
          "name": "stdout",
          "text": [
            "Enter a number: 17\n",
            "17 is a prime number.\n"
          ]
        }
      ]
    },
    {
      "cell_type": "code",
      "source": [
        "'''\n",
        "Dictionary for Helbert To Manage his company students data it should perform as follows\n",
        "In a company for each student an student id is provided to access the student details easily.\n",
        "You can see there will be people with the same name . To avoid confusion each student should be provided with the an unique student ID\n",
        "For example, there are two rajesh in the same company. There will be confusion if the management uses the name . So, an unique id\n",
        "[10 : \"Arjun\" ,11 : \"Rajesh\",12 :\"Rajesh \" 13: \"sathish\"]\n",
        "The management wants to send a message to each and every student.For that they\n",
        "are planning to use the student ID that they provided for each student.\n",
        "(Just print “message sent to : empid”)\n",
        "There are two new students who are joining in this company and the management\n",
        "wants to assign student id to them also and want to add their data in the existing\n",
        "student details.\n",
        "first create an empty dictionary and add those student details in that and merge\n",
        "Create a student management program with all the operations on it.\n",
        "'''\n",
        "student_data = {}\n",
        "\n",
        "\n",
        "while True:\n",
        "\n",
        "    print(\"\\nStudent Management System\")\n",
        "    print(\"1. Add Student\")\n",
        "    print(\"2. Update Student\")\n",
        "    print(\"3. Delete Student\")\n",
        "    print(\"4. Display All Students\")\n",
        "    print(\"5. Send Messages\")\n",
        "    print(\"6. Exit\")\n",
        "\n",
        "\n",
        "    choice = input(\"Enter your choice (1-6): \")\n",
        "\n",
        "    if choice == '1':\n",
        "\n",
        "        student_id = int(input(\"Enter student ID: \"))\n",
        "        name = input(\"Enter student name: \")\n",
        "        age = input(\"Enter student age (optional, press Enter to skip): \")\n",
        "        email = input(\"Enter student email (optional, press Enter to skip): \")\n",
        "\n",
        "        student_data[student_id] = {\n",
        "            \"name\": name,\n",
        "            \"age\": age if age else \"N/A\",\n",
        "            \"email\": email if email else \"N/A\"\n",
        "        }\n",
        "        print(f\"Student with ID {student_id} added.\")\n",
        "\n",
        "    elif choice == '2':\n",
        "\n",
        "        student_id = int(input(\"Enter student ID to update: \"))\n",
        "        if student_id in student_data:\n",
        "            name = input(\"Enter new student name (press Enter to keep current): \")\n",
        "            age = input(\"Enter new student age (press Enter to keep current): \")\n",
        "            email = input(\"Enter new student email (press Enter to keep current): \")\n",
        "\n",
        "            if name:\n",
        "                student_data[student_id][\"name\"] = name\n",
        "            if age:\n",
        "                student_data[student_id][\"age\"] = age\n",
        "            if email:\n",
        "                student_data[student_id][\"email\"] = email\n",
        "\n",
        "            print(f\"Student with ID {student_id} updated.\")\n",
        "        else:\n",
        "            print(f\"Student with ID {student_id} does not exist.\")\n",
        "\n",
        "    elif choice == '3':\n",
        "\n",
        "        student_id = int(input(\"Enter student ID to delete: \"))\n",
        "        if student_id in student_data:\n",
        "            del student_data[student_id]\n",
        "            print(f\"Student with ID {student_id} deleted.\")\n",
        "        else:\n",
        "            print(f\"Student with ID {student_id} does not exist.\")\n",
        "\n",
        "    elif choice == '4':\n",
        "\n",
        "        print(\"\\nStudent Details:\")\n",
        "        for student_id, details in student_data.items():\n",
        "            name = details[\"name\"]\n",
        "            age = details.get(\"age\", \"N/A\")\n",
        "            email = details.get(\"email\", \"N/A\")\n",
        "            print(f\"ID: {student_id}, Name: {name}, Age: {age}, Email: {email}\")\n",
        "\n",
        "    elif choice == '5':\n",
        "\n",
        "        for student_id in student_data:\n",
        "            print(f\"Message sent to: {student_id}\")\n",
        "\n",
        "    elif choice == '6':\n",
        "\n",
        "        print(\"Exiting the program.\")\n",
        "        break\n",
        "\n",
        "    else:\n",
        "        print(\"Invalid choice. Please select a number between 1 and 6.\")\n",
        "\n",
        "\n",
        "\n"
      ],
      "metadata": {
        "colab": {
          "base_uri": "https://localhost:8080/"
        },
        "id": "jGnr_BzOxNjh",
        "outputId": "b4c1b150-8346-4f9a-8105-b946781cec89"
      },
      "execution_count": 12,
      "outputs": [
        {
          "output_type": "stream",
          "name": "stdout",
          "text": [
            "\n",
            "Student Management System\n",
            "1. Add Student\n",
            "2. Update Student\n",
            "3. Delete Student\n",
            "4. Display All Students\n",
            "5. Send Messages\n",
            "6. Exit\n",
            "Enter your choice (1-6): 1\n",
            "Enter student ID: 123\n",
            "Enter student name: altamash\n",
            "Enter student age (optional, press Enter to skip): 22\n",
            "Enter student email (optional, press Enter to skip): altamash43@gmail.com\n",
            "Student with ID 123 added.\n",
            "\n",
            "Student Management System\n",
            "1. Add Student\n",
            "2. Update Student\n",
            "3. Delete Student\n",
            "4. Display All Students\n",
            "5. Send Messages\n",
            "6. Exit\n",
            "Enter your choice (1-6): 1\n",
            "Enter student ID: 121\n",
            "Enter student name: Rehan\n",
            "Enter student age (optional, press Enter to skip): 24\n",
            "Enter student email (optional, press Enter to skip): rehan12@gmail.com\n",
            "Student with ID 121 added.\n",
            "\n",
            "Student Management System\n",
            "1. Add Student\n",
            "2. Update Student\n",
            "3. Delete Student\n",
            "4. Display All Students\n",
            "5. Send Messages\n",
            "6. Exit\n",
            "Enter your choice (1-6): 10\n",
            "Invalid choice. Please select a number between 1 and 6.\n",
            "\n",
            "Student Management System\n",
            "1. Add Student\n",
            "2. Update Student\n",
            "3. Delete Student\n",
            "4. Display All Students\n",
            "5. Send Messages\n",
            "6. Exit\n",
            "Enter your choice (1-6): 1\n",
            "Enter student ID: 10\n",
            "Enter student name: arjun\n",
            "Enter student age (optional, press Enter to skip): 26\n",
            "Enter student email (optional, press Enter to skip): arjun2@gmail.com\n",
            "Student with ID 10 added.\n",
            "\n",
            "Student Management System\n",
            "1. Add Student\n",
            "2. Update Student\n",
            "3. Delete Student\n",
            "4. Display All Students\n",
            "5. Send Messages\n",
            "6. Exit\n",
            "Enter your choice (1-6): 4\n",
            "\n",
            "Student Details:\n",
            "ID: 123, Name: altamash, Age: 22, Email: altamash43@gmail.com\n",
            "ID: 121, Name: Rehan, Age: 24, Email: rehan12@gmail.com\n",
            "ID: 10, Name: arjun, Age: 26, Email: arjun2@gmail.com\n",
            "\n",
            "Student Management System\n",
            "1. Add Student\n",
            "2. Update Student\n",
            "3. Delete Student\n",
            "4. Display All Students\n",
            "5. Send Messages\n",
            "6. Exit\n",
            "Enter your choice (1-6): 6\n",
            "Exiting the program.\n"
          ]
        }
      ]
    }
  ]
}