{
  "nbformat": 4,
  "nbformat_minor": 0,
  "metadata": {
    "colab": {
      "provenance": [],
      "authorship_tag": "ABX9TyOj0Zs2SA9WVRjTaCN3wkDa",
      "include_colab_link": true
    },
    "kernelspec": {
      "name": "python3",
      "display_name": "Python 3"
    },
    "language_info": {
      "name": "python"
    }
  },
  "cells": [
    {
      "cell_type": "markdown",
      "metadata": {
        "id": "view-in-github",
        "colab_type": "text"
      },
      "source": [
        "<a href=\"https://colab.research.google.com/github/altamash0786/python-developer/blob/main/TestAdvanceConcept.ipynb\" target=\"_parent\"><img src=\"https://colab.research.google.com/assets/colab-badge.svg\" alt=\"Open In Colab\"/></a>"
      ]
    },
    {
      "cell_type": "code",
      "execution_count": 1,
      "metadata": {
        "colab": {
          "base_uri": "https://localhost:8080/"
        },
        "id": "ySKAMIufxwA8",
        "outputId": "523a1535-a81e-49dd-f195-bb26cbaf70c1"
      },
      "outputs": [
        {
          "output_type": "stream",
          "name": "stdout",
          "text": [
            "Decorator one: Before the function call.\n",
            "Decorator two: Before the function call.\n",
            "Decorator Three: Before the function call.\n",
            "Hello,Altamash!\n",
            "Decorator one: After the function call.\n",
            "Decorator two: After the function call.\n",
            "Decorator one: After the function call.\n"
          ]
        }
      ],
      "source": [
        "#create multiple decorators and applied to a single function.\n",
        "def decorator_one(func):\n",
        "  def wrapper(*args, **kwargs):\n",
        "    print(\"Decorator one: Before the function call.\")\n",
        "    result = func(*args, **kwargs)\n",
        "    print(\"Decorator one: After the function call.\")\n",
        "    return result\n",
        "  return wrapper\n",
        "\n",
        "def decorator_two(func):\n",
        "  def wrapper(*args, **kwargs):\n",
        "    print(\"Decorator two: Before the function call.\")\n",
        "    result = func(*args, **kwargs)\n",
        "    print(\"Decorator two: After the function call.\")\n",
        "    return result\n",
        "  return wrapper\n",
        "\n",
        "def decorator_three(func):\n",
        "  def wrapper(*args, **kwargs):\n",
        "    print(\"Decorator Three: Before the function call.\")\n",
        "    result = func(*args, **kwargs)\n",
        "    print(\"Decorator one: After the function call.\")\n",
        "    return result\n",
        "  return wrapper\n",
        "\n",
        "@decorator_one\n",
        "@decorator_two\n",
        "@decorator_three\n",
        "def function(name):\n",
        "  print(f\"Hello,{name}!\")\n",
        "\n",
        "function(\"Altamash\")\n"
      ]
    },
    {
      "cell_type": "code",
      "source": [
        "#convert json object to a json string\n",
        "import json\n",
        "\n",
        "student = {\n",
        "    \"name\":\"Rehan\",\n",
        "    \"age\":25,\n",
        "    \"city\":\"Noida\",\n",
        "    \"is_student\": True\n",
        "}\n",
        "\n",
        "json_string = json.dumps(student)\n",
        "print(json_string)"
      ],
      "metadata": {
        "colab": {
          "base_uri": "https://localhost:8080/"
        },
        "id": "zp_zKNuDzz-t",
        "outputId": "d1ce207c-2051-4d2e-cc47-19fdf0c85160"
      },
      "execution_count": 2,
      "outputs": [
        {
          "output_type": "stream",
          "name": "stdout",
          "text": [
            "{\"name\": \"Rehan\", \"age\": 25, \"city\": \"Noida\", \"is_student\": true}\n"
          ]
        }
      ]
    },
    {
      "cell_type": "code",
      "source": [
        "# To_do_app to using tkinter"
      ],
      "metadata": {
        "id": "IRoy1HtqBheD"
      },
      "execution_count": 7,
      "outputs": []
    }
  ]
}